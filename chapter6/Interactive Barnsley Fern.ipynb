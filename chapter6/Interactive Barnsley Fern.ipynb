{
 "cells": [
  {
   "cell_type": "code",
   "execution_count": 1,
   "metadata": {
    "collapsed": false
   },
   "outputs": [
    {
     "data": {
      "image/png": "[encoded data removed]",
      "text/plain": [
       "<matplotlib.figure.Figure at 0x10a0f0b00>"
      ]
     },
     "metadata": {},
     "output_type": "display_data"
    }
   ],
   "source": [
    "#P165 of \"Doing Math with Python\": Interactive version of drawing the Barnsley Fern\n",
    "\n",
    "%matplotlib inline\n",
    "\n",
    "from ipywidgets import interact\n",
    "import ipywidgets as widgets\n",
    "\n",
    "import random\n",
    "import matplotlib.pyplot as plt\n",
    "\n",
    "def transformation_1(p):\n",
    "    x = p[0]\n",
    "    y = p[1]\n",
    "    x1 = 0.85*x + 0.04*y\n",
    "    y1 = -0.04*x + 0.85*y + 1.6\n",
    "    return x1, y1\n",
    "\n",
    "def transformation_2(p):\n",
    "    x = p[0]\n",
    "    y = p[1]\n",
    "    x1 = 0.2*x - 0.26*y\n",
    "    y1 = 0.23*x + 0.22*y + 1.6\n",
    "    return x1, y1\n",
    "\n",
    "def transformation_3(p):\n",
    "    x = p[0]\n",
    "    y = p[1]\n",
    "    x1 = -0.15*x + 0.28*y\n",
    "    y1 = 0.26*x  + 0.24*y + 0.44\n",
    "    return x1, y1\n",
    "\n",
    "def transformation_4(p):\n",
    "    x = p[0]\n",
    "    y = p[1]\n",
    "    x1 = 0\n",
    "    y1 = 0.16*y\n",
    "    return x1, y1\n",
    "\n",
    "def get_index(probability):\n",
    "    r = random.random()\n",
    "    c_probability = 0\n",
    "    sum_probability = []\n",
    "    for p in probability:\n",
    "        c_probability += p\n",
    "        sum_probability.append(c_probability)\n",
    "    for item, sp in enumerate(sum_probability):\n",
    "        if r <= sp:\n",
    "            return item\n",
    "    return len(probability)-1\n",
    "\n",
    "def transform(p):\n",
    "    # list of transformation functions\n",
    "    transformations = [transformation_1, transformation_2,\n",
    "                           transformation_3, transformation_4]\n",
    "    probability = [0.85, 0.07, 0.07, 0.01]\n",
    "    # pick a random transformation function and call it\n",
    "    tindex = get_index(probability)\n",
    "    t = transformations[tindex]\n",
    "    x, y = t(p)\n",
    "    return x, y\n",
    "\n",
    "def draw_fern(n):\n",
    "    # We start with (0, 0)\n",
    "    x = [0]\n",
    "    y = [0]\n",
    "    x1, y1 = 0, 0\n",
    "    for i in range(n):\n",
    "       x1, y1 = transform((x1, y1))\n",
    "       x.append(x1)\n",
    "       y.append(y1)\n",
    "    \n",
    "    # Plot the points\n",
    "    plt.plot(x, y, 'o')\n",
    "    plt.title('Fern with {0} points'.format(n))\n",
    "    plt.show()\n",
    " \n",
    "# Allow interaction via the interact() function and an Integer slider widget\n",
    "i = interact(draw_fern, n=widgets.IntSlider(min=0, max=10000,step=1,value=10))"
   ]
  },
  {
   "cell_type": "code",
   "execution_count": null,
   "metadata": {
    "collapsed": true
   },
   "outputs": [],
   "source": []
  }
 ],
 "metadata": {
  "kernelspec": {
   "display_name": "Python 3",
   "language": "python",
   "name": "python3"
  },
  "language_info": {
   "codemirror_mode": {
    "name": "ipython",
    "version": 3
   },
   "file_extension": ".py",
   "mimetype": "text/x-python",
   "name": "python",
   "nbconvert_exporter": "python",
   "pygments_lexer": "ipython3",
   "version": "3.5.1"
  }
 },
 "nbformat": 4,
 "nbformat_minor": 0
}
