{
 "cells": [
  {
   "cell_type": "markdown",
   "metadata": {},
   "source": [
    "#Snippets and Programs from Chapter 4: Algebra and Symbolic Math with SymPy"
   ]
  },
  {
   "cell_type": "code",
   "execution_count": 1,
   "metadata": {
    "collapsed": true
   },
   "outputs": [],
   "source": [
    "%matplotlib inline"
   ]
  },
  {
   "cell_type": "code",
   "execution_count": null,
   "metadata": {
    "collapsed": false
   },
   "outputs": [],
   "source": [
    "#P96/97: Basic factorization and expansion\n",
    "from sympy import Symbol, factor, expand\n",
    "x = Symbol('x')\n",
    "y = Symbol('y')\n",
    "expr = x**2 - y**2\n",
    "f = factor(expr)\n",
    "print(f)\n",
    "# Expand\n",
    "print(expand(f))"
   ]
  },
  {
   "cell_type": "code",
   "execution_count": null,
   "metadata": {
    "collapsed": false
   },
   "outputs": [],
   "source": [
    "#P97: Factorizing and expanding a complicated identity\n",
    "from sympy import Symbol, factor, expand\n",
    "x = Symbol('x')\n",
    "y = Symbol('y')\n",
    "expr = x**3 + 3*x**2*y + 3*x*y**2 + y**3 \n",
    "\n",
    "print('Original expression: {0}'.format(expr))\n",
    "factors = factor(expr)\n",
    "print('Factors: {0}'.format(factors))\n",
    "\n",
    "\n",
    "expanded = expand(factors)\n",
    "print('Expansion: {0}'.format(expanded))\n"
   ]
  },
  {
   "cell_type": "code",
   "execution_count": null,
   "metadata": {
    "collapsed": false
   },
   "outputs": [],
   "source": [
    "#P97: Pretty printing\n",
    "from sympy import Symbol, pprint, init_printing\n",
    "x = Symbol('x')\n",
    "expr = x*x + 2*x*y + y*y\n",
    "pprint(expr)\n",
    "# Reverse order lexicographical\n",
    "init_printing(order='rev-lex')\n",
    "expr = 1 + 2*x + 2*x**2\n",
    "pprint(expr)"
   ]
  },
  {
   "cell_type": "markdown",
   "metadata": {},
   "source": [
    "*Since we have initialized pretty printing above, it will be active for all the output below this.*"
   ]
  },
  {
   "cell_type": "code",
   "execution_count": null,
   "metadata": {
    "collapsed": false
   },
   "outputs": [],
   "source": [
    "#P99: Print a series\n",
    "\n",
    "'''\n",
    "Print the series:\n",
    "x + x**2 + x**3 + ... + x**n\n",
    "    ____  _____         ____    \n",
    "      2     3             n\n",
    "'''\n",
    "from sympy import Symbol, pprint, init_printing\n",
    "def print_series(n):\n",
    "    # initialize printing system with\n",
    "    # reverse order\n",
    "    init_printing(order='rev-lex')\n",
    "    x = Symbol('x')\n",
    "    series = x\n",
    "    for i in range(2, n+1):\n",
    "        series = series + (x**i)/i\n",
    "    pprint(series)\n",
    "\n",
    "if __name__ == '__main__':\n",
    "    n = input('Enter the number of terms you want in the series: ')\n",
    "    print_series(int(n))"
   ]
  },
  {
   "cell_type": "code",
   "execution_count": null,
   "metadata": {
    "collapsed": false
   },
   "outputs": [],
   "source": [
    "#P100: Substituting in values\n",
    "from sympy import Symbol\n",
    "x = Symbol('x')\n",
    "y = Symbol('y')\n",
    "expr = x*x + x*y + x*y + y*y\n",
    "res = expr.subs({x:1, y:2})\n",
    "res"
   ]
  },
  {
   "cell_type": "code",
   "execution_count": null,
   "metadata": {
    "collapsed": false
   },
   "outputs": [],
   "source": [
    "#P102: Print a series and also calculate its value at a certain point\n",
    "\n",
    "'''\n",
    "Print the series:\n",
    "\n",
    "x + x**2 + x**3 + ... + x**n\n",
    "    ____  _____         ____    \n",
    "      2     3             n\n",
    "      \n",
    "and calculate its value at a certain value of x.\n",
    "'''\n",
    "\n",
    "from sympy import Symbol, pprint, init_printing\n",
    "def print_series(n, x_value):\n",
    "    # initialize printing system with\n",
    "    # reverse order\n",
    "    init_printing(order='rev-lex')\n",
    "    x = Symbol('x')\n",
    "    series = x\n",
    "    for i in range(2, n+1):\n",
    "        series = series + (x**i)/i\n",
    "    pprint(series)\n",
    "    # evaluate the series at x_value\n",
    "    series_value = series.subs({x:x_value})\n",
    "    print('Value of the series at {0}: {1}'.format(x_value, series_value))\n",
    "\n",
    "if __name__ == '__main__':\n",
    "    n = input('Enter the number of terms you want in the series: ')\n",
    "    x_value = input('Enter the value of x at which you want to evaluate the series: ') \n",
    "    print_series(int(n), float(x_value))"
   ]
  },
  {
   "cell_type": "code",
   "execution_count": null,
   "metadata": {
    "collapsed": false
   },
   "outputs": [],
   "source": [
    "# P104: Expression multiplier\n",
    "\n",
    "'''\n",
    "Product of two expressions\n",
    "'''\n",
    "\n",
    "from sympy import expand, sympify\n",
    "from sympy.core.sympify import SympifyError\n",
    "def product(expr1, expr2):\n",
    "    prod = expand(expr1*expr2)\n",
    "    print(prod)\n",
    "\n",
    "if __name__=='__main__':\n",
    "    expr1 = input('Enter the first expression: ')\n",
    "    expr2 = input('Enter the second expression: ')\n",
    "    try:\n",
    "        expr1 = sympify(expr1)\n",
    "        expr2 = sympify(expr2)\n",
    "    except SympifyError:\n",
    "        print('Invalid input')\n",
    "    else:\n",
    "        product(expr1, expr2)\n"
   ]
  },
  {
   "cell_type": "code",
   "execution_count": null,
   "metadata": {
    "collapsed": false
   },
   "outputs": [],
   "source": [
    "#P105: Solving a linear equation\n",
    ">>> from sympy import Symbol, solve \n",
    ">>> x = Symbol('x')\n",
    ">>> expr = x - 5 - 7\n",
    ">>> solve(expr)"
   ]
  },
  {
   "cell_type": "code",
   "execution_count": null,
   "metadata": {
    "collapsed": false
   },
   "outputs": [],
   "source": [
    "#P106: Solving a quadratic equation\n",
    ">>> from sympy import solve \n",
    ">>> x = Symbol('x')\n",
    ">>> expr = x**2 + 5*x + 4 \n",
    ">>> solve(expr, dict=True)"
   ]
  },
  {
   "cell_type": "code",
   "execution_count": null,
   "metadata": {
    "collapsed": false
   },
   "outputs": [],
   "source": [
    "#P106: Quadratic equation with imaginary roots\n",
    ">>> from sympy import Symbol\n",
    ">>> x=Symbol('x')\n",
    ">>> expr = x**2 + x + 1\n",
    ">>> solve(expr, dict=True)"
   ]
  },
  {
   "cell_type": "code",
   "execution_count": null,
   "metadata": {
    "collapsed": false
   },
   "outputs": [],
   "source": [
    "#P106/107: Solving for one variable in terms of others\n",
    ">>> from sympy import Symbol, solve\n",
    ">>> x = Symbol('x')\n",
    ">>> a = Symbol('a') \n",
    ">>> b = Symbol('b')\n",
    ">>> c = Symbol('c')\n",
    ">>> expr = a*x*x + b*x + c\n",
    ">>> solve(expr, x, dict=True)"
   ]
  },
  {
   "cell_type": "code",
   "execution_count": null,
   "metadata": {
    "collapsed": false
   },
   "outputs": [],
   "source": [
    "#P107: Express s in terms of u, a, t\n",
    ">>> from sympy import Symbol, solve, pprint \n",
    ">>> s = Symbol('s')\n",
    ">>> u = Symbol('u')\n",
    ">>> t = Symbol('t')\n",
    ">>> a = Symbol('a')\n",
    ">>> expr = u*t + (1/2)*a*t*t - s\n",
    ">>> t_expr = solve(expr,t, dict=True) \n",
    ">>> t_expr"
   ]
  },
  {
   "cell_type": "code",
   "execution_count": null,
   "metadata": {
    "collapsed": false
   },
   "outputs": [],
   "source": [
    "#P108: Solve a system of Linear equations\n",
    ">>> from sympy import Symbol\n",
    ">>> x = Symbol('x')\n",
    ">>> y = Symbol('y')\n",
    ">>> expr1 = 2*x + 3*y - 6 \n",
    ">>> expr2 = 3*x + 2*y - 12\n",
    ">>> solve((expr1, expr2), dict=True)"
   ]
  },
  {
   "cell_type": "code",
   "execution_count": 2,
   "metadata": {
    "collapsed": false
   },
   "outputs": [
    {
     "data": {
      "image/png": "[encoded data removed]",
      "text/plain": [
       "<matplotlib.figure.Figure at 0x1065be128>"
      ]
     },
     "metadata": {},
     "output_type": "display_data"
    },
    {
     "data": {
      "text/plain": [
       "<sympy.plotting.plot.Plot at 0x10742f4a8>"
      ]
     },
     "execution_count": 2,
     "metadata": {},
     "output_type": "execute_result"
    }
   ],
   "source": [
    "#P109: Simple plot with SymPy\n",
    ">>> from sympy.plotting import plot\n",
    ">>> from sympy import Symbol\n",
    ">>> x = Symbol('x')\n",
    ">>> plot(2*x+3)"
   ]
  },
  {
   "cell_type": "code",
   "execution_count": 3,
   "metadata": {
    "collapsed": false
   },
   "outputs": [
    {
     "data": {
      "image/png": "[encoded data removed]",
      "text/plain": [
       "<matplotlib.figure.Figure at 0x1078db470>"
      ]
     },
     "metadata": {},
     "output_type": "display_data"
    },
    {
     "data": {
      "text/plain": [
       "<sympy.plotting.plot.Plot at 0x107878b70>"
      ]
     },
     "execution_count": 3,
     "metadata": {},
     "output_type": "execute_result"
    }
   ],
   "source": [
    "#P110: Plot in SymPy with range of x as well as other attributes specified\n",
    ">>> from sympy import plot, Symbol\n",
    ">>> x = Symbol('x')\n",
    ">>> plot(2*x + 3, (x, -5, 5), title='A Line', xlabel='x', ylabel='2x+3')"
   ]
  },
  {
   "cell_type": "code",
   "execution_count": 4,
   "metadata": {
    "collapsed": false
   },
   "outputs": [
    {
     "name": "stdout",
     "output_type": "stream",
     "text": [
      "Enter your expression in terms of x and y: 2*x + 3*y - 6\n"
     ]
    },
    {
     "data": {
      "image/png": "[encoded data removed]",
      "text/plain": [
       "<matplotlib.figure.Figure at 0x1078ad7b8>"
      ]
     },
     "metadata": {},
     "output_type": "display_data"
    }
   ],
   "source": [
    "#P112: Plot the graph of an input expression\n",
    "'''\n",
    "Plot the graph of an input expression\n",
    "'''\n",
    "from sympy import Symbol, sympify, solve\n",
    "from sympy.plotting import plot\n",
    "\n",
    "def plot_expression(expr):\n",
    "    y = Symbol('y')\n",
    "    solutions = solve(expr, y)\n",
    "    expr_y = solutions[0]\n",
    "    plot(expr_y)\n",
    "\n",
    "if __name__=='__main__':\n",
    "    expr = input('Enter your expression in terms of x and y: ')\n",
    "    try:\n",
    "        expr = sympify(expr)\n",
    "    except SympifyError:\n",
    "        print('Invalid input')\n",
    "    else:\n",
    "        plot_expression(expr)"
   ]
  },
  {
   "cell_type": "code",
   "execution_count": 5,
   "metadata": {
    "collapsed": false
   },
   "outputs": [
    {
     "data": {
      "image/png": "[encoded data removed]",
      "text/plain": [
       "<matplotlib.figure.Figure at 0x1077fdc88>"
      ]
     },
     "metadata": {},
     "output_type": "display_data"
    },
    {
     "data": {
      "text/plain": [
       "<sympy.plotting.plot.Plot at 0x1077fd898>"
      ]
     },
     "execution_count": 5,
     "metadata": {},
     "output_type": "execute_result"
    }
   ],
   "source": [
    "#P113: Plotting multiple functions\n",
    ">>> from sympy.plotting import plot \n",
    ">>> from sympy import Symbol\n",
    ">>> x = Symbol('x')\n",
    ">>> plot(2*x+3, 3*x+1)"
   ]
  },
  {
   "cell_type": "code",
   "execution_count": 7,
   "metadata": {
    "collapsed": false
   },
   "outputs": [
    {
     "data": {
      "image/png": "[encoded data removed]",
      "text/plain": [
       "<matplotlib.figure.Figure at 0x10797d6a0>"
      ]
     },
     "metadata": {},
     "output_type": "display_data"
    }
   ],
   "source": [
    "#P114: Plot of the two lines drawn in a different color\n",
    ">>> from sympy.plotting import plot \n",
    ">>> from sympy import Symbol\n",
    ">>> x = Symbol('x')\n",
    ">>> p = plot(2*x+3, 3*x+1, legend=True, show=False) \n",
    ">>> p[0].line_color = 'b'\n",
    ">>> p[1].line_color = 'r'\n",
    ">>> p.show()"
   ]
  },
  {
   "cell_type": "code",
   "execution_count": 9,
   "metadata": {
    "collapsed": false
   },
   "outputs": [
    {
     "data": {
      "text/plain": [
       "3.51206400000000"
      ]
     },
     "execution_count": 9,
     "metadata": {},
     "output_type": "execute_result"
    }
   ],
   "source": [
    "#P116: Example of summing a series\n",
    ">>> from sympy import Symbol, summation, pprint \n",
    ">>> x = Symbol('x')\n",
    ">>> n = Symbol('n')\n",
    ">>> s = summation(x**n/n, (n, 1, 5)) \n",
    ">>> s.subs({x:1.2})"
   ]
  },
  {
   "cell_type": "code",
   "execution_count": 10,
   "metadata": {
    "collapsed": false
   },
   "outputs": [
    {
     "data": {
      "text/plain": [
       "[(-oo, -2), (2, oo)]"
      ]
     },
     "execution_count": 10,
     "metadata": {},
     "output_type": "execute_result"
    }
   ],
   "source": [
    "#P117: Example of solving a polynomial inequality\n",
    ">>> from sympy import Poly, Symbol, solve_poly_inequality\n",
    ">>> x = Symbol('x')\n",
    ">>> ineq_obj = -x**2 + 4 < 0 \n",
    ">>> lhs = ineq_obj.lhs\n",
    ">>> p = Poly(lhs, x)\n",
    ">>> rel = ineq_obj.rel_op\n",
    ">>> solve_poly_inequality(p, rel)"
   ]
  },
  {
   "cell_type": "code",
   "execution_count": 11,
   "metadata": {
    "collapsed": false
   },
   "outputs": [
    {
     "data": {
      "text/plain": [
       "(-oo, -2) U (1, oo)"
      ]
     },
     "execution_count": 11,
     "metadata": {},
     "output_type": "execute_result"
    }
   ],
   "source": [
    "#P118: Example of solving a rational inequality\n",
    ">>> from sympy import Symbol, Poly, solve_rational_inequalities\n",
    ">>> x = Symbol('x')\n",
    ">>> ineq_obj = ((x-1)/(x+2)) > 0\n",
    ">>> lhs = ineq_obj.lhs\n",
    ">>> numer, denom = lhs.as_numer_denom()\n",
    ">>> p1 = Poly(numer)\n",
    ">>> p2 = Poly(denom)\n",
    ">>> rel = ineq_obj.rel_op\n",
    ">>> solve_rational_inequalities([[((p1, p2), rel)]])"
   ]
  },
  {
   "cell_type": "code",
   "execution_count": 12,
   "metadata": {
    "collapsed": false
   },
   "outputs": [
    {
     "data": {
      "text/plain": [
       "(0.643501108793284, 2.49809154479651)"
      ]
     },
     "execution_count": 12,
     "metadata": {},
     "output_type": "execute_result"
    }
   ],
   "source": [
    "#P118: Solve a non-polynomial inequality\n",
    ">>> from sympy import Symbol, solve, solve_univariate_inequality, sin \n",
    ">>> x = Symbol('x')\n",
    ">>> ineq_obj = sin(x) - 0.6 > 0\n",
    ">>> solve_univariate_inequality(ineq_obj, x, relational=False)"
   ]
  }
 ],
 "metadata": {
  "kernelspec": {
   "display_name": "Python 3",
   "language": "python",
   "name": "python3"
  },
  "language_info": {
   "codemirror_mode": {
    "name": "ipython",
    "version": 3
   },
   "file_extension": ".py",
   "mimetype": "text/x-python",
   "name": "python",
   "nbconvert_exporter": "python",
   "pygments_lexer": "ipython3",
   "version": "3.4.3"
  }
 },
 "nbformat": 4,
 "nbformat_minor": 0
}
