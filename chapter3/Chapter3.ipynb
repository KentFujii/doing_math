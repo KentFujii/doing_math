{
 "cells": [
  {
   "cell_type": "markdown",
   "metadata": {},
   "source": [
    "#Snippets and Programs from Chapter 3: Describing Data with Statistics"
   ]
  },
  {
   "cell_type": "code",
   "execution_count": 1,
   "metadata": {
    "collapsed": false
   },
   "outputs": [],
   "source": [
    "%matplotlib inline\n"
   ]
  },
  {
   "cell_type": "code",
   "execution_count": 1,
   "metadata": {
    "collapsed": false
   },
   "outputs": [
    {
     "name": "stdout",
     "output_type": "stream",
     "text": [
      "Mean donation over the last 12 days is 477.75\n"
     ]
    }
   ],
   "source": [
    "#P62: Calculating the mean\n",
    "'''\n",
    "Calculating the mean\n",
    "'''\n",
    "def calculate_mean(numbers):\n",
    "    s = sum(numbers)\n",
    "    N = len(numbers)\n",
    "    # calculate the mean\n",
    "    mean = s/N\n",
    "    return mean\n",
    "if __name__ == '__main__':\n",
    "    donations = [100, 60, 70, 900, 100, 200, 500, 500, 503, 600, 1000, 1200]\n",
    "    mean = calculate_mean(donations)\n",
    "    N = len(donations)\n",
    "    print('Mean donation over the last {0} days is {1}'.format(N, mean))"
   ]
  },
  {
   "cell_type": "code",
   "execution_count": 2,
   "metadata": {
    "collapsed": false
   },
   "outputs": [
    {
     "name": "stdout",
     "output_type": "stream",
     "text": [
      "Median donation over the last 12 days is 500.0\n"
     ]
    }
   ],
   "source": [
    "#P63: Calculating the median\n",
    "'''\n",
    "Calculating the median\n",
    "'''\n",
    "def calculate_median(numbers):\n",
    "    N = len(numbers)\n",
    "    numbers.sort()\n",
    "\n",
    "    # find the median\n",
    "    if N % 2 == 0:\n",
    "        # if N is even\n",
    "        m1 = N/2\n",
    "        m2 = (N/2) + 1\n",
    "        # convert to integer, match position\n",
    "        m1 = int(m1) - 1\n",
    "        m2 = int(m2) - 1\n",
    "        median = (numbers[m1] + numbers[m2])/2\n",
    "    else:\n",
    "        m = (N+1)/2\n",
    "        # convert to integer, match position\n",
    "        m = int(m) - 1\n",
    "        median = numbers[m]\n",
    "    return median\n",
    "\n",
    "if __name__ == '__main__':\n",
    "    donations = [100, 60, 70, 900, 100, 200, 500, 500, 503, 600, 1000, 1200]\n",
    "    median = calculate_median(donations)\n",
    "    N = len(donations)\n",
    "    print('Median donation over the last {0} days is {1}'.format(N, median))\n"
   ]
  },
  {
   "cell_type": "code",
   "execution_count": 6,
   "metadata": {
    "collapsed": false
   },
   "outputs": [
    {
     "data": {
      "text/plain": [
       "4"
      ]
     },
     "execution_count": 6,
     "metadata": {},
     "output_type": "execute_result"
    }
   ],
   "source": [
    "#P66/67: Example of calculating the mode\n",
    ">>> simplelist = [4, 2, 1, 3, 4]\n",
    ">>> from collections import Counter\n",
    ">>> c = Counter(simplelist)\n",
    ">>> mode = c.most_common(1)\n",
    ">>> mode\n",
    ">>> mode[0]\n",
    ">>> mode[0][0]"
   ]
  },
  {
   "cell_type": "code",
   "execution_count": 8,
   "metadata": {
    "collapsed": false
   },
   "outputs": [
    {
     "name": "stdout",
     "output_type": "stream",
     "text": [
      "The mode of the list of numbers is: 9\n"
     ]
    }
   ],
   "source": [
    "#P67: Calculating the mode\n",
    "'''\n",
    "Calculating the mode\n",
    "'''\n",
    "from collections import Counter\n",
    "def calculate_mode(numbers):\n",
    "    c = Counter(numbers)\n",
    "    mode = c.most_common(1)\n",
    "    return mode[0][0]\n",
    "\n",
    "if __name__=='__main__':\n",
    "    scores = [7,8,9,2,10,9,9,9,9,4,5,6,1,5,6,7,8,6,1,10]\n",
    "    mode = calculate_mode(scores)\n",
    "    print('The mode of the list of numbers is: {0}'.format(mode))\n"
   ]
  },
  {
   "cell_type": "code",
   "execution_count": 9,
   "metadata": {
    "collapsed": false
   },
   "outputs": [
    {
     "name": "stdout",
     "output_type": "stream",
     "text": [
      "The mode(s) of the list of numbers are:\n",
      "4\n",
      "5\n"
     ]
    }
   ],
   "source": [
    "#P68: \n",
    "\n",
    "'''\n",
    "Calculating the mode when the list of numbers may have multiple modes\n",
    "'''\n",
    "from collections import Counter\n",
    "def calculate_mode(numbers):\n",
    "    c = Counter(numbers)\n",
    "    numbers_freq = c.most_common()\n",
    "    max_count = numbers_freq[0][1]\n",
    "    modes = []\n",
    "    for num in numbers_freq:\n",
    "        if num[1] == max_count:\n",
    "            modes.append(num[0])\n",
    "    return modes\n",
    "if __name__ == '__main__':\n",
    "    scores = [5, 5, 5, 4, 4, 4, 9, 1, 3]\n",
    "    modes = calculate_mode(scores)\n",
    "    print('The mode(s) of the list of numbers are:')\n",
    "    for mode in modes:\n",
    "        print(mode)\n"
   ]
  },
  {
   "cell_type": "code",
   "execution_count": 10,
   "metadata": {
    "collapsed": false
   },
   "outputs": [
    {
     "name": "stdout",
     "output_type": "stream",
     "text": [
      "Number\tFrequency\n",
      "9\t5\n",
      "6\t3\n",
      "1\t2\n",
      "5\t2\n",
      "7\t2\n",
      "8\t2\n",
      "10\t2\n",
      "2\t1\n",
      "4\t1\n"
     ]
    }
   ],
   "source": [
    "#P69: Frequency table\n",
    "'''\n",
    "Frequency table for a list of numbers\n",
    "'''\n",
    "from collections import Counter\n",
    "def frequency_table(numbers):\n",
    "    table = Counter(numbers)\n",
    "    print('Number\\tFrequency')\n",
    "    for number in table.most_common():\n",
    "        print('{0}\\t{1}'.format(number[0], number[1]))\n",
    "\n",
    "if __name__=='__main__':\n",
    "    scores = [7, 8, 9, 2, 10, 9, 9, 9, 9, 4, 5, 6, 1, 5, 6, 7, 8, 6, 1, 10]\n",
    "    frequency_table(scores)\n"
   ]
  },
  {
   "cell_type": "code",
   "execution_count": 11,
   "metadata": {
    "collapsed": false
   },
   "outputs": [
    {
     "name": "stdout",
     "output_type": "stream",
     "text": [
      "Number\tFrequency\n",
      "1\t2\n",
      "2\t1\n",
      "4\t1\n",
      "5\t2\n",
      "6\t3\n",
      "7\t2\n",
      "8\t2\n",
      "9\t5\n",
      "10\t2\n"
     ]
    }
   ],
   "source": [
    "#P70: Frequency table with the numbers sorted\n",
    "\n",
    "'''\n",
    "Frequency table for a list of numbers\n",
    "Enhanced to display the table sorted by the numbers\n",
    "'''\n",
    "from collections import Counter\n",
    "def frequency_table(numbers):\n",
    "    table = Counter(numbers)\n",
    "    numbers_freq = table.most_common()\n",
    "    numbers_freq.sort()\n",
    "\n",
    "    print('Number\\tFrequency')\n",
    "    for number in numbers_freq:\n",
    "        print('{0}\\t{1}'.format(number[0], number[1]))\n",
    "\n",
    "if __name__ == '__main__':\n",
    "    scores = [7,8,9,2,10,9,9,9,9,4,5,6,1,5,6,7,8,6,1,10]\n",
    "    frequency_table(scores)"
   ]
  },
  {
   "cell_type": "code",
   "execution_count": 12,
   "metadata": {
    "collapsed": false
   },
   "outputs": [
    {
     "name": "stdout",
     "output_type": "stream",
     "text": [
      "Lowest: 60 Highest: 1200 Range: 1140\n"
     ]
    }
   ],
   "source": [
    "#P72\n",
    "\n",
    "'''\n",
    "Find the range\n",
    "'''\n",
    "def find_range(numbers):\n",
    "    lowest = min(numbers)\n",
    "    highest = max(numbers)\n",
    "    # find the range\n",
    "    r = highest-lowest\n",
    "    return lowest, highest, r\n",
    "if __name__ == '__main__':\n",
    "    donations = [100, 60, 70, 900, 100, 200, 500, 500, 503, 600, 1000, 1200]\n",
    "    lowest, highest, r = find_range(donations)\n",
    "    print('Lowest: {0} Highest: {1} Range: {2}'.format(lowest, highest, r))\n"
   ]
  },
  {
   "cell_type": "code",
   "execution_count": 2,
   "metadata": {
    "collapsed": false
   },
   "outputs": [
    {
     "name": "stdout",
     "output_type": "stream",
     "text": [
      "Lowest: 60 Highest: 1200 Range: 1140\n"
     ]
    }
   ],
   "source": [
    "\n",
    "\n",
    "'''\n",
    "Find the range using a dictionary to return values, Appendix B\n",
    "'''\n",
    "def find_range(numbers):\n",
    "    lowest = min(numbers)\n",
    "    highest = max(numbers)\n",
    "    # find the range\n",
    "    r = highest-lowest\n",
    "    return {'lowest':lowest, 'highest':highest, 'range':r}\n",
    "if __name__ == '__main__':\n",
    "    donations = [100, 60, 70, 900, 100, 200, 500, 500, 503, 600, 1000, 1200]\n",
    "    result = find_range(donations)\n",
    "    print('Lowest: {0} Highest: {1} Range: {2}'.\n",
    "          format(result['lowest'], result['highest'], result['range']))"
   ]
  },
  {
   "cell_type": "code",
   "execution_count": 13,
   "metadata": {
    "collapsed": false
   },
   "outputs": [
    {
     "name": "stdout",
     "output_type": "stream",
     "text": [
      "The variance of the list of numbers is 141047.35416666666\n",
      "The standard deviation of the list of numbers is 375.5627166887931\n"
     ]
    }
   ],
   "source": [
    "#P73: Find the variance and standard deviation\n",
    "\n",
    "'''\n",
    "Find the variance and standard deviation of a list of numbers\n",
    "'''\n",
    "def calculate_mean(numbers):\n",
    "    s = sum(numbers)\n",
    "    N = len(numbers)\n",
    "    # calculate the mean\n",
    "    mean = s/N\n",
    "    return mean\n",
    "\n",
    "def find_differences(numbers):\n",
    "    # find the mean\n",
    "    mean = calculate_mean(numbers)\n",
    "    # find the differences from the mean\n",
    "    diff = []\n",
    "    \n",
    "    for num in numbers:\n",
    "        diff.append(num-mean)\n",
    "    return diff\n",
    "def calculate_variance(numbers):\n",
    "    # find the list of differences\n",
    "    diff = find_differences(numbers)\n",
    "    # find the squared differences\n",
    "    squared_diff = []\n",
    "    for d in diff:\n",
    "        squared_diff.append(d**2)\n",
    "    #find the variance\n",
    "    sum_squared_diff = sum(squared_diff)\n",
    "    variance = sum_squared_diff/len(numbers)\n",
    "    return variance\n",
    "\n",
    "if __name__ == '__main__':\n",
    "    donations = [100, 60, 70, 900, 100, 200, 500, 500, 503, 600, 1000, 1200]\n",
    "    variance = calculate_variance(donations)\n",
    "    print('The variance of the list of numbers is {0}'.format(variance))\n",
    "    std = variance**0.5\n",
    "    print('The standard deviation of the list of numbers is {0}'.format(std))\n",
    "\n",
    "\n"
   ]
  },
  {
   "cell_type": "code",
   "execution_count": 15,
   "metadata": {
    "collapsed": false
   },
   "outputs": [
    {
     "name": "stdout",
     "output_type": "stream",
     "text": [
      "1 4\n",
      "2 5\n",
      "3 6\n"
     ]
    }
   ],
   "source": [
    "#P77: How the zip() function works\n",
    ">>> simple_list1 = [1, 2, 3]\n",
    ">>> simple_list2 = [4, 5, 6]\n",
    ">>> for x,y in zip(simple_list1, simple_list2):\n",
    "        print(x, y)\n"
   ]
  },
  {
   "cell_type": "code",
   "execution_count": 23,
   "metadata": {
    "collapsed": false
   },
   "outputs": [
    {
     "data": {
      "image/png": "[encoded data removed]",
      "text/plain": [
       "<matplotlib.figure.Figure at 0x7f9f6ce9d8d0>"
      ]
     },
     "metadata": {},
     "output_type": "display_data"
    }
   ],
   "source": [
    "# P81: Example of creating a scatter plot\n",
    ">>> x = [1, 2, 3, 4]\n",
    ">>> y = [2, 4, 6, 8]\n",
    ">>> import matplotlib.pyplot as plt\n",
    ">>> plt.scatter(x, y)\n",
    ">>> plt.show()\n"
   ]
  },
  {
   "cell_type": "code",
   "execution_count": 25,
   "metadata": {
    "collapsed": false
   },
   "outputs": [
    {
     "name": "stdout",
     "output_type": "stream",
     "text": [
      "Sum of the numbers: 5733.0\n"
     ]
    }
   ],
   "source": [
    "#P84: Sum of the numbers read from a file\n",
    "\n",
    "# Find the sum of numbers stored in a file\n",
    "def sum_data(filename):\n",
    "    s = 0\n",
    "    with open(filename) as f:\n",
    "        for line in f:\n",
    "            s = s + float(line)\n",
    "    print('Sum of the numbers: {0}'.format(s))\n",
    "\n",
    "if __name__ == '__main__':\n",
    "    sum_data('mydata.txt')\n"
   ]
  },
  {
   "cell_type": "code",
   "execution_count": 27,
   "metadata": {
    "collapsed": false
   },
   "outputs": [
    {
     "name": "stdout",
     "output_type": "stream",
     "text": [
      "Mean: 477.75\n"
     ]
    }
   ],
   "source": [
    "#P85: Calculate the mean of numbers stored in a file\n",
    "\n",
    "'''\n",
    "Calculating the mean of numbers stored in a file\n",
    "'''\n",
    "def read_data(filename):\n",
    "    numbers = []\n",
    "    with open(filename) as f:\n",
    "        for line in f:\n",
    "            numbers.append(float(line))\n",
    "    return numbers\n",
    "\n",
    "def calculate_mean(numbers):\n",
    "    s = sum(numbers)\n",
    "    N = len(numbers)\n",
    "    mean = s/N\n",
    "    \n",
    "    return mean\n",
    "\n",
    "if __name__ == '__main__':\n",
    "    data = read_data('mydata.txt')\n",
    "    mean = calculate_mean(data)\n",
    "    print('Mean: {0}'.format(mean))\n"
   ]
  },
  {
   "cell_type": "code",
   "execution_count": 29,
   "metadata": {
    "collapsed": false
   },
   "outputs": [
    {
     "data": {
      "image/png": "[encoded data removed]",
      "text/plain": [
       "<matplotlib.figure.Figure at 0x7f9f6c7471d0>"
      ]
     },
     "metadata": {},
     "output_type": "display_data"
    }
   ],
   "source": [
    "#P86: Read a CSV file and create a scatter plot\n",
    "\n",
    "import csv\n",
    "import matplotlib.pyplot as plt\n",
    "\n",
    "def scatter_plot(x, y):\n",
    "    plt.scatter(x, y)\n",
    "    plt.xlabel('Number')\n",
    "    plt.ylabel('Square')\n",
    "    plt.show()\n",
    "    \n",
    "def read_csv(filename):\n",
    "    numbers = []\n",
    "    squared = []\n",
    "    with open(filename) as f:\n",
    "        reader = csv.reader(f)\n",
    "        next(reader)\n",
    "        for row in reader:\n",
    "            numbers.append(int(row[0]))\n",
    "            squared.append(int(row[1]))\n",
    "    return numbers, squared\n",
    "\n",
    "if __name__ == '__main__':\n",
    "    numbers, squared = read_csv('numbers.csv')\n",
    "    scatter_plot(numbers, squared)\n"
   ]
  },
  {
   "cell_type": "code",
   "execution_count": 5,
   "metadata": {
    "collapsed": false
   },
   "outputs": [],
   "source": [
    "#P77: Function to calculate the linear correlation\n",
    "def find_corr_x_y(x,y):    \n",
    "    n = len(x)\n",
    "    # find the sum of the products\n",
    "    prod = []\n",
    "    for xi,yi in zip(x,y):\n",
    "        prod.append(xi*yi)\n",
    "    sum_prod_x_y = sum(prod)\n",
    "    sum_x = sum(x)\n",
    "    sum_y = sum(y)\n",
    "    squared_sum_x = sum_x**2\n",
    "    squared_sum_y = sum_y**2\n",
    "    x_square = []\n",
    "    for xi in x:\n",
    "        x_square.append(xi**2)\n",
    "    # find the sum\n",
    "    x_square_sum = sum(x_square)\n",
    "    y_square=[]\n",
    "    for yi in y:\n",
    "        y_square.append(yi**2)\n",
    "    # find the sum\n",
    "    y_square_sum = sum(y_square)\n",
    "    \n",
    "    # use formula to calculate correlation\n",
    "    numerator = n*sum_prod_x_y - sum_x*sum_y\n",
    "    denominator_term1 = n*x_square_sum - squared_sum_x\n",
    "    denominator_term2 = n*y_square_sum - squared_sum_y\n",
    "    denominator = (denominator_term1*denominator_term2)**0.5\n",
    "    correlation = numerator/denominator\n",
    "    \n",
    "    return correlation\n",
    "\n"
   ]
  },
  {
   "cell_type": "code",
   "execution_count": 35,
   "metadata": {
    "collapsed": false
   },
   "outputs": [
    {
     "name": "stdout",
     "output_type": "stream",
     "text": [
      "Highest correlation: None\n"
     ]
    },
    {
     "data": {
      "image/png": "[encoded data removed]",
      "text/plain": [
       "<matplotlib.figure.Figure at 0x7f9f6c7474a8>"
      ]
     },
     "metadata": {},
     "output_type": "display_data"
    }
   ],
   "source": [
    "#P86/88: Calculate correlation and create a scatter plot similar to that \n",
    "# on Google correlate\n",
    "import matplotlib.pyplot as plt\n",
    "import csv\n",
    "\n",
    "def read_csv(filename):\n",
    "    with open(filename) as f:\n",
    "        reader = csv.reader(f)\n",
    "        next(reader)\n",
    "        summer = []\n",
    "        highest_correlated = []\n",
    "        for row in reader:\n",
    "            summer.append(float(row[1]))\n",
    "            highest_correlated.append(float(row[2]))\n",
    "    return summer, highest_correlated\n",
    "\n",
    "if __name__ == '__main__':\n",
    "    summer, highest_correlated = read_csv('correlate-summer.csv')\n",
    "    corr = find_corr_x_y(summer, highest_correlated)\n",
    "    print('Highest correlation: {0}'.format(corr))\n",
    "    scatter_plot(summer, highest_correlated)\n"
   ]
  },
  {
   "cell_type": "code",
   "execution_count": 7,
   "metadata": {
    "collapsed": false
   },
   "outputs": [
    {
     "name": "stdout",
     "output_type": "stream",
     "text": [
      "Correlation coefficient: 0.3183785775683751\n"
     ]
    }
   ],
   "source": [
    "#P79/80: Correlation\n",
    "\n",
    "# Find the correlation for high school grades and college admission scores\n",
    "if __name__=='__main__':\n",
    "    high_school_math = [90, 92, 95, 96, 87, 87, 90, 95, 98, 96]\n",
    "    college_admission = [85, 87, 86, 97, 96, 88, 89, 98, 98, 87]\n",
    "    corr = find_corr_x_y(high_school_math, college_admission)\n",
    "    print('Correlation coefficient: {0}'.format(corr))"
   ]
  },
  {
   "cell_type": "code",
   "execution_count": 6,
   "metadata": {
    "collapsed": false
   },
   "outputs": [
    {
     "name": "stdout",
     "output_type": "stream",
     "text": [
      "Correlation coefficient: 0.9989633063220916\n"
     ]
    }
   ],
   "source": [
    "#P79/80: Correlation\n",
    "\n",
    "# Find the correlation for high school math grades and college admission scores\n",
    "if __name__=='__main__':\n",
    "    high_school_math = [83, 85, 84, 96, 94, 86, 87, 97, 97, 85]\n",
    "    college_admission = [85, 87, 86, 97, 96, 88, 89, 98, 98, 87]\n",
    "    corr = find_corr_x_y(high_school_math, college_admission)\n",
    "    print('Correlation coefficient: {0}'.format(corr))"
   ]
  },
  {
   "cell_type": "code",
   "execution_count": 4,
   "metadata": {
    "collapsed": false
   },
   "outputs": [
    {
     "data": {
      "text/plain": [
       "[(1, 3.25), (3.25, 5.5), (5.5, 7.75), (7.75, 11)]"
      ]
     },
     "execution_count": 4,
     "metadata": {},
     "output_type": "execute_result"
    }
   ],
   "source": [
    "#P91: Create classes for grouped frequency table\n",
    "def create_classes(numbers, n):\n",
    "    low = min(numbers)\n",
    "    high = max(numbers)\n",
    "    # Width of each class\n",
    "    width = (high - low)/n\n",
    "    classes = []\n",
    "    a = low\n",
    "    b = low + width\n",
    "    classes = []\n",
    "    while a < (high-width):\n",
    "        classes.append((a, b)) \n",
    "        a= b\n",
    "        b = a + width\n",
    "    # The last class may be of a size that is less than width\n",
    "    classes.append((a, high+1))\n",
    "    return classes\n",
    "\n",
    "create_classes([7, 8, 9, 2, 10, 9, 9, 9, 9, 4, 5, 6, 1, 5, 6, 7, 8, 6, 1, 10], 4)"
   ]
  },
  {
   "cell_type": "code",
   "execution_count": null,
   "metadata": {
    "collapsed": true
   },
   "outputs": [],
   "source": []
  }
 ],
 "metadata": {
  "kernelspec": {
   "display_name": "Python 3",
   "language": "python",
   "name": "python3"
  },
  "language_info": {
   "codemirror_mode": {
    "name": "ipython",
    "version": 3
   },
   "file_extension": ".py",
   "mimetype": "text/x-python",
   "name": "python",
   "nbconvert_exporter": "python",
   "pygments_lexer": "ipython3",
   "version": "3.4.3"
  }
 },
 "nbformat": 4,
 "nbformat_minor": 0
}
